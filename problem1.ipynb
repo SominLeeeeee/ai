{
 "cells": [
  {
   "cell_type": "code",
   "execution_count": 8,
   "metadata": {},
   "outputs": [
    {
     "name": "stdout",
     "output_type": "stream",
     "text": [
      "[[2. 0. 0.]\n",
      " [0. 2. 0.]\n",
      " [0. 0. 1.]]\n"
     ]
    }
   ],
   "source": [
    "import numpy as np\n",
    "\n",
    "A = np.array([[0,0,-2],[1,2,1],[1,0,3]])\n",
    "\n",
    "# 대각행렬을 타이핑하기 어려우므로 B라고 하겠다\n",
    "# A = PBP^-1\n",
    "# P^-1AP = B\n",
    "\n",
    "P = np.array([[-1,0,-2],[0,1,1],[1,0,1]])\n",
    "invP = np.linalg.inv(P)\n",
    "\n",
    "B = invP.dot(A.dot(P))\n",
    "print(B)\n",
    "\n",
    "# 대각행렬은 고윳값을 대각선에 배치한 행렬이다"
   ]
  },
  {
   "cell_type": "code",
   "execution_count": null,
   "metadata": {},
   "outputs": [],
   "source": []
  }
 ],
 "metadata": {
  "kernelspec": {
   "display_name": "Python 3",
   "language": "python",
   "name": "python3"
  },
  "language_info": {
   "codemirror_mode": {
    "name": "ipython",
    "version": 3
   },
   "file_extension": ".py",
   "mimetype": "text/x-python",
   "name": "python",
   "nbconvert_exporter": "python",
   "pygments_lexer": "ipython3",
   "version": "3.8.3"
  }
 },
 "nbformat": 4,
 "nbformat_minor": 4
}
