{
 "cells": [
  {
   "cell_type": "code",
   "execution_count": 1,
   "metadata": {},
   "outputs": [
    {
     "data": {
      "text/plain": [
       "array([[0.7, 0.6]])"
      ]
     },
     "execution_count": 1,
     "metadata": {},
     "output_type": "execute_result"
    }
   ],
   "source": [
    "import numpy as np\n",
    "\n",
    "u1 = np.array([[-0.3,1.6],[1.0,-1.0],[1.2,-1.1]])\n",
    "u2 = np.array([[1,0.7],[1,0.5],[-1,1]])\n",
    "u3 = np.array([[0.5,-0.1],[-0.8,0.3],[0.9,0.4]])\n",
    "u4 = np.array([[1,-0.2],[0.1,1.3],[-0.2,-0.4]])\n",
    "\n",
    "x = np.array([[1,1,0]])\n",
    "x.dot(u1)"
   ]
  },
  {
   "cell_type": "code",
   "execution_count": 2,
   "metadata": {},
   "outputs": [
    {
     "data": {
      "text/plain": [
       "array([1.1 , 1.65])"
      ]
     },
     "execution_count": 2,
     "metadata": {},
     "output_type": "execute_result"
    }
   ],
   "source": [
    "x = np.array([1,0.7,0.6])\n",
    "x.dot(u2)"
   ]
  },
  {
   "cell_type": "code",
   "execution_count": 3,
   "metadata": {},
   "outputs": [
    {
     "data": {
      "text/plain": [
       "array([1.105, 0.89 ])"
      ]
     },
     "execution_count": 3,
     "metadata": {},
     "output_type": "execute_result"
    }
   ],
   "source": [
    "x = np.array([1,1.1,1.65])\n",
    "x.dot(u3)"
   ]
  },
  {
   "cell_type": "code",
   "execution_count": 4,
   "metadata": {},
   "outputs": [
    {
     "data": {
      "text/plain": [
       "array([0.9325, 0.8805])"
      ]
     },
     "execution_count": 4,
     "metadata": {},
     "output_type": "execute_result"
    }
   ],
   "source": [
    "x = np.array([1,1.105,0.89])\n",
    "x.dot(u4)"
   ]
  },
  {
   "cell_type": "code",
   "execution_count": 20,
   "metadata": {},
   "outputs": [
    {
     "name": "stdout",
     "output_type": "stream",
     "text": [
      "[[14 16]\n",
      " [16 19]]\n"
     ]
    }
   ],
   "source": [
    "x = np.array([[1,1],[2,3],[3,3]])\n",
    "xt = x.T\n",
    "xtx = xt.dot(x)\n",
    "print(xtx)"
   ]
  },
  {
   "cell_type": "code",
   "execution_count": 21,
   "metadata": {},
   "outputs": [
    {
     "name": "stdout",
     "output_type": "stream",
     "text": [
      "[[15 16]\n",
      " [16 20]]\n",
      "[[ 0.45454545 -0.36363636]\n",
      " [-0.36363636  0.34090909]]\n"
     ]
    }
   ],
   "source": [
    "array2i = np.array([[1,0],[0,1]])\n",
    "xtx = xtx + array2i\n",
    "print(xtx)\n",
    "xtx_inv = np.linalg.inv(xtx)\n",
    "print(xtx_inv)"
   ]
  },
  {
   "cell_type": "code",
   "execution_count": 22,
   "metadata": {},
   "outputs": [
    {
     "name": "stdout",
     "output_type": "stream",
     "text": [
      "[[ 0.09090909 -0.18181818  0.27272727]\n",
      " [-0.02272727  0.29545455 -0.06818182]]\n"
     ]
    }
   ],
   "source": [
    "result_1 = xtx_inv.dot(xt)\n",
    "print(result_1)"
   ]
  },
  {
   "cell_type": "code",
   "execution_count": 23,
   "metadata": {},
   "outputs": [],
   "source": [
    "y = np.array([[3.0],[7.0],[8.8]])\n",
    "result = result_1.dot(y)"
   ]
  },
  {
   "cell_type": "code",
   "execution_count": 24,
   "metadata": {},
   "outputs": [
    {
     "name": "stdout",
     "output_type": "stream",
     "text": [
      "[[1.4]\n",
      " [1.4]]\n"
     ]
    }
   ],
   "source": [
    "print(result)"
   ]
  },
  {
   "cell_type": "code",
   "execution_count": null,
   "metadata": {},
   "outputs": [],
   "source": []
  }
 ],
 "metadata": {
  "kernelspec": {
   "display_name": "Python 3",
   "language": "python",
   "name": "python3"
  },
  "language_info": {
   "codemirror_mode": {
    "name": "ipython",
    "version": 3
   },
   "file_extension": ".py",
   "mimetype": "text/x-python",
   "name": "python",
   "nbconvert_exporter": "python",
   "pygments_lexer": "ipython3",
   "version": "3.8.3"
  }
 },
 "nbformat": 4,
 "nbformat_minor": 4
}
