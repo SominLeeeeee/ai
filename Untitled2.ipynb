{
 "cells": [
  {
   "cell_type": "code",
   "execution_count": 5,
   "metadata": {},
   "outputs": [],
   "source": [
    "import numpy as np\n",
    "\n",
    "def sigmoid(x):\n",
    "    return np.exp(x) / (np.exp(x)+1)"
   ]
  },
  {
   "cell_type": "code",
   "execution_count": 7,
   "metadata": {},
   "outputs": [
    {
     "name": "stdout",
     "output_type": "stream",
     "text": [
      "0.7493220844051798\n"
     ]
    }
   ],
   "source": [
    "print(sigmoid(1.095))"
   ]
  },
  {
   "cell_type": "code",
   "execution_count": 8,
   "metadata": {},
   "outputs": [],
   "source": [
    "def logistic(x):\n",
    "    return 1 / (1 + np.exp(-x))"
   ]
  },
  {
   "cell_type": "code",
   "execution_count": 12,
   "metadata": {},
   "outputs": [
    {
     "name": "stdout",
     "output_type": "stream",
     "text": [
      "0.7807427479121283\n"
     ]
    }
   ],
   "source": [
    "print(logistic(1.27))"
   ]
  },
  {
   "cell_type": "code",
   "execution_count": 11,
   "metadata": {},
   "outputs": [
    {
     "name": "stdout",
     "output_type": "stream",
     "text": [
      "0.7088901725661199\n"
     ]
    }
   ],
   "source": [
    "print(logistic(0.89))"
   ]
  },
  {
   "cell_type": "code",
   "execution_count": 16,
   "metadata": {},
   "outputs": [
    {
     "name": "stdout",
     "output_type": "stream",
     "text": [
      "[0.7 0.6]\n"
     ]
    }
   ],
   "source": [
    "U1 = np.array([[-0.3, 1.0, 1.2],[1.6,-1.0,-1.1]])\n",
    "U2 = np.array([[1.0,1.0,-1.0],[0.7,0.5,1.0]])\n",
    "U3 = np.array([[0.5,-0.8,1.0],[-0.1,0.3,0.4]])\n",
    "U4 = np.array([[1.0,0.1,-0.2],[-0.2,1.3,-0.4]])\n",
    "\n",
    "x1 = np.array([1,1,0])\n",
    "result = x1.dot(U1.T)\n",
    "print(result)"
   ]
  },
  {
   "cell_type": "code",
   "execution_count": 17,
   "metadata": {},
   "outputs": [
    {
     "name": "stdout",
     "output_type": "stream",
     "text": [
      "[1.1  1.65]\n"
     ]
    }
   ],
   "source": [
    "x2 = np.array([1, 0.7, 0.6])\n",
    "result = x2.dot(U2.T)\n",
    "print(result)"
   ]
  },
  {
   "cell_type": "code",
   "execution_count": 18,
   "metadata": {},
   "outputs": [
    {
     "name": "stdout",
     "output_type": "stream",
     "text": [
      "[1.27 0.89]\n"
     ]
    }
   ],
   "source": [
    "x3 = np.array([1, 1.1, 1.65])\n",
    "result = x3.dot(U3.T)\n",
    "print(result)"
   ]
  },
  {
   "cell_type": "code",
   "execution_count": 20,
   "metadata": {},
   "outputs": [
    {
     "name": "stdout",
     "output_type": "stream",
     "text": [
      "[0.949 1.095]\n"
     ]
    }
   ],
   "source": [
    "x4 = np.array([1, 1.27, 0.89])\n",
    "result = x4.dot(U4.T)\n",
    "print(result)"
   ]
  },
  {
   "cell_type": "code",
   "execution_count": 21,
   "metadata": {},
   "outputs": [
    {
     "name": "stdout",
     "output_type": "stream",
     "text": [
      "0.7209140254836983\n"
     ]
    }
   ],
   "source": [
    "print(logistic(0.949))"
   ]
  },
  {
   "cell_type": "code",
   "execution_count": 22,
   "metadata": {},
   "outputs": [
    {
     "name": "stdout",
     "output_type": "stream",
     "text": [
      "0.7493220844051797\n"
     ]
    }
   ],
   "source": [
    "print(logistic(1.095))"
   ]
  },
  {
   "cell_type": "code",
   "execution_count": 2,
   "metadata": {},
   "outputs": [
    {
     "name": "stdout",
     "output_type": "stream",
     "text": [
      "[[0. 0.]\n",
      " [0. 0.]\n",
      " [0. 0.]]\n"
     ]
    }
   ],
   "source": [
    "import numpy as np\n",
    "a = np.zeros((3,2))\n",
    "print(a)"
   ]
  },
  {
   "cell_type": "code",
   "execution_count": null,
   "metadata": {},
   "outputs": [],
   "source": []
  }
 ],
 "metadata": {
  "kernelspec": {
   "display_name": "Python 3",
   "language": "python",
   "name": "python3"
  },
  "language_info": {
   "codemirror_mode": {
    "name": "ipython",
    "version": 3
   },
   "file_extension": ".py",
   "mimetype": "text/x-python",
   "name": "python",
   "nbconvert_exporter": "python",
   "pygments_lexer": "ipython3",
   "version": "3.8.3"
  }
 },
 "nbformat": 4,
 "nbformat_minor": 4
}
