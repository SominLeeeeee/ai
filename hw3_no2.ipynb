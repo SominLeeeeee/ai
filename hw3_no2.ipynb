{
 "cells": [
  {
   "cell_type": "code",
   "execution_count": 33,
   "metadata": {},
   "outputs": [],
   "source": [
    "#20160386 이소민\n",
    "import sympy as sp\n",
    "arrayA = sp.Matrix([[1, -2],[2,2]])\n",
    "arrayB = arrayA ** (0.5)"
   ]
  },
  {
   "cell_type": "code",
   "execution_count": 34,
   "metadata": {},
   "outputs": [
    {
     "data": {
      "text/latex": [
       "$\\displaystyle \\left[\\begin{matrix}\\frac{2 \\left(-30 + 2 \\sqrt{15} i\\right) \\left(\\frac{3}{2} - \\frac{\\sqrt{15} i}{2}\\right)^{0.5}}{\\left(- \\frac{1}{2} + \\frac{\\sqrt{15} i}{2}\\right) \\left(15 + 15 \\sqrt{15} i\\right)} - \\frac{4 \\sqrt{15} i \\left(\\frac{3}{2} + \\frac{\\sqrt{15} i}{2}\\right)^{0.5}}{15 \\left(- \\frac{1}{2} - \\frac{\\sqrt{15} i}{2}\\right)} & \\frac{2 \\left(\\frac{1}{2} + \\frac{\\sqrt{15} i}{30}\\right) \\left(\\frac{3}{2} - \\frac{\\sqrt{15} i}{2}\\right)^{0.5}}{- \\frac{1}{2} + \\frac{\\sqrt{15} i}{2}} + \\frac{16 \\sqrt{15} i \\left(\\frac{3}{2} + \\frac{\\sqrt{15} i}{2}\\right)^{0.5}}{\\left(-15 + 15 \\sqrt{15} i\\right) \\left(- \\frac{1}{2} - \\frac{\\sqrt{15} i}{2}\\right)}\\\\- \\frac{2 \\sqrt{15} i \\left(\\frac{3}{2} + \\frac{\\sqrt{15} i}{2}\\right)^{0.5}}{15} + \\frac{\\left(-30 + 2 \\sqrt{15} i\\right) \\left(\\frac{3}{2} - \\frac{\\sqrt{15} i}{2}\\right)^{0.5}}{15 + 15 \\sqrt{15} i} & \\left(\\frac{1}{2} + \\frac{\\sqrt{15} i}{30}\\right) \\left(\\frac{3}{2} - \\frac{\\sqrt{15} i}{2}\\right)^{0.5} + \\frac{8 \\sqrt{15} i \\left(\\frac{3}{2} + \\frac{\\sqrt{15} i}{2}\\right)^{0.5}}{-15 + 15 \\sqrt{15} i}\\end{matrix}\\right]$"
      ],
      "text/plain": [
       "Matrix([\n",
       "[2*(-30 + 2*sqrt(15)*I)*(3/2 - sqrt(15)*I/2)**0.5/((-1/2 + sqrt(15)*I/2)*(15 + 15*sqrt(15)*I)) - 4*sqrt(15)*I*(3/2 + sqrt(15)*I/2)**0.5/(15*(-1/2 - sqrt(15)*I/2)), 2*(1/2 + sqrt(15)*I/30)*(3/2 - sqrt(15)*I/2)**0.5/(-1/2 + sqrt(15)*I/2) + 16*sqrt(15)*I*(3/2 + sqrt(15)*I/2)**0.5/((-15 + 15*sqrt(15)*I)*(-1/2 - sqrt(15)*I/2))],\n",
       "[                                                 -2*sqrt(15)*I*(3/2 + sqrt(15)*I/2)**0.5/15 + (-30 + 2*sqrt(15)*I)*(3/2 - sqrt(15)*I/2)**0.5/(15 + 15*sqrt(15)*I),                                                  (1/2 + sqrt(15)*I/30)*(3/2 - sqrt(15)*I/2)**0.5 + 8*sqrt(15)*I*(3/2 + sqrt(15)*I/2)**0.5/(-15 + 15*sqrt(15)*I)]])"
      ]
     },
     "execution_count": 34,
     "metadata": {},
     "output_type": "execute_result"
    }
   ],
   "source": [
    "arrayB"
   ]
  },
  {
   "cell_type": "code",
   "execution_count": 31,
   "metadata": {},
   "outputs": [],
   "source": [
    "arrayB = arrayA ** (-1/2)"
   ]
  },
  {
   "cell_type": "code",
   "execution_count": 32,
   "metadata": {},
   "outputs": [
    {
     "data": {
      "text/latex": [
       "$\\displaystyle \\left[\\begin{matrix}- \\frac{4 \\sqrt{15} i}{15 \\left(- \\frac{1}{2} - \\frac{\\sqrt{15} i}{2}\\right) \\left(\\frac{3}{2} + \\frac{\\sqrt{15} i}{2}\\right)^{0.5}} + \\frac{2 \\left(-30 + 2 \\sqrt{15} i\\right)}{\\left(- \\frac{1}{2} + \\frac{\\sqrt{15} i}{2}\\right) \\left(\\frac{3}{2} - \\frac{\\sqrt{15} i}{2}\\right)^{0.5} \\left(15 + 15 \\sqrt{15} i\\right)} & \\frac{2 \\left(\\frac{1}{2} + \\frac{\\sqrt{15} i}{30}\\right)}{\\left(- \\frac{1}{2} + \\frac{\\sqrt{15} i}{2}\\right) \\left(\\frac{3}{2} - \\frac{\\sqrt{15} i}{2}\\right)^{0.5}} + \\frac{16 \\sqrt{15} i}{\\left(-15 + 15 \\sqrt{15} i\\right) \\left(- \\frac{1}{2} - \\frac{\\sqrt{15} i}{2}\\right) \\left(\\frac{3}{2} + \\frac{\\sqrt{15} i}{2}\\right)^{0.5}}\\\\- \\frac{2 \\sqrt{15} i}{15 \\left(\\frac{3}{2} + \\frac{\\sqrt{15} i}{2}\\right)^{0.5}} + \\frac{-30 + 2 \\sqrt{15} i}{\\left(\\frac{3}{2} - \\frac{\\sqrt{15} i}{2}\\right)^{0.5} \\left(15 + 15 \\sqrt{15} i\\right)} & \\frac{8 \\sqrt{15} i}{\\left(-15 + 15 \\sqrt{15} i\\right) \\left(\\frac{3}{2} + \\frac{\\sqrt{15} i}{2}\\right)^{0.5}} + \\frac{\\frac{1}{2} + \\frac{\\sqrt{15} i}{30}}{\\left(\\frac{3}{2} - \\frac{\\sqrt{15} i}{2}\\right)^{0.5}}\\end{matrix}\\right]$"
      ],
      "text/plain": [
       "Matrix([\n",
       "[-4*sqrt(15)*I*(3/2 + sqrt(15)*I/2)**(-0.5)/(15*(-1/2 - sqrt(15)*I/2)) + 2*(-30 + 2*sqrt(15)*I)*(3/2 - sqrt(15)*I/2)**(-0.5)/((-1/2 + sqrt(15)*I/2)*(15 + 15*sqrt(15)*I)), 2*(1/2 + sqrt(15)*I/30)*(3/2 - sqrt(15)*I/2)**(-0.5)/(-1/2 + sqrt(15)*I/2) + 16*sqrt(15)*I*(3/2 + sqrt(15)*I/2)**(-0.5)/((-15 + 15*sqrt(15)*I)*(-1/2 - sqrt(15)*I/2))],\n",
       "[                                                  -2*sqrt(15)*I*(3/2 + sqrt(15)*I/2)**(-0.5)/15 + (-30 + 2*sqrt(15)*I)*(3/2 - sqrt(15)*I/2)**(-0.5)/(15 + 15*sqrt(15)*I),                                                  8*sqrt(15)*I*(3/2 + sqrt(15)*I/2)**(-0.5)/(-15 + 15*sqrt(15)*I) + (1/2 + sqrt(15)*I/30)*(3/2 - sqrt(15)*I/2)**(-0.5)]])"
      ]
     },
     "execution_count": 32,
     "metadata": {},
     "output_type": "execute_result"
    }
   ],
   "source": [
    "arrayB"
   ]
  },
  {
   "cell_type": "code",
   "execution_count": null,
   "metadata": {},
   "outputs": [],
   "source": []
  }
 ],
 "metadata": {
  "kernelspec": {
   "display_name": "Python 3",
   "language": "python",
   "name": "python3"
  },
  "language_info": {
   "codemirror_mode": {
    "name": "ipython",
    "version": 3
   },
   "file_extension": ".py",
   "mimetype": "text/x-python",
   "name": "python",
   "nbconvert_exporter": "python",
   "pygments_lexer": "ipython3",
   "version": "3.8.3"
  }
 },
 "nbformat": 4,
 "nbformat_minor": 4
}
